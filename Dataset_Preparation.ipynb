{
 "cells": [
  {
   "cell_type": "markdown",
   "id": "c0922b20-6a56-494d-a162-f849c7cf5c61",
   "metadata": {},
   "source": [
    "to be executed after\n",
    "\n",
    "> `cd src`\n",
    " \n",
    "> `python main.py`"
   ]
  },
  {
   "cell_type": "code",
   "execution_count": 1,
   "id": "31eb417f-0bba-44c7-9340-3ce7198cfd2e",
   "metadata": {},
   "outputs": [],
   "source": [
    "import glob\n",
    "import cv2\n",
    "from matplotlib import pyplot as plt\n",
    "from tqdm import tqdm\n",
    "import numpy as np\n",
    "import pandas as pd\n",
    "import random\n",
    "from pathlib import Path\n",
    "from numpy.random import seed\n",
    "# import tensorflow as tf\n",
    "from operator import itemgetter\n",
    "\n",
    "cherrypicked_seed = 42\n",
    "\n",
    "seed(cherrypicked_seed)\n",
    "# tf.random.set_seed(cherrypicked_seed)\n",
    "random.seed(cherrypicked_seed)\n",
    " "
   ]
  },
  {
   "cell_type": "code",
   "execution_count": 2,
   "id": "f2299e02-48c6-4210-b9c8-daa8e86cae10",
   "metadata": {
    "tags": []
   },
   "outputs": [
    {
     "name": "stderr",
     "output_type": "stream",
     "text": [
      "100%|████████████████████████████████| 100000/100000 [00:02<00:00, 43431.92it/s]\n",
      "100%|████████████████████████████████| 100000/100000 [00:02<00:00, 34300.87it/s]"
     ]
    },
    {
     "name": "stdout",
     "output_type": "stream",
     "text": [
      "{(28, 40)}\n"
     ]
    },
    {
     "name": "stderr",
     "output_type": "stream",
     "text": [
      "\n"
     ]
    },
    {
     "ename": "NameError",
     "evalue": "name 'selected_label_list' is not defined",
     "output_type": "error",
     "traceback": [
      "\u001b[0;31m---------------------------------------------------------------------------\u001b[0m",
      "\u001b[0;31mNameError\u001b[0m                                 Traceback (most recent call last)",
      "\u001b[0;32m/tmp/ipykernel_57502/1011271421.py\u001b[0m in \u001b[0;36m<module>\u001b[0;34m\u001b[0m\n\u001b[1;32m     34\u001b[0m         \u001b[0;31m# selected_label_list = unique_labels[:45]\u001b[0m\u001b[0;34m\u001b[0m\u001b[0;34m\u001b[0m\u001b[0;34m\u001b[0m\u001b[0m\n\u001b[1;32m     35\u001b[0m         \u001b[0mselected_labels\u001b[0m \u001b[0;34m=\u001b[0m \u001b[0mnp\u001b[0m\u001b[0;34m.\u001b[0m\u001b[0marange\u001b[0m\u001b[0;34m(\u001b[0m\u001b[0;36m1\u001b[0m\u001b[0;34m,\u001b[0m \u001b[0;36m45\u001b[0m\u001b[0;34m)\u001b[0m\u001b[0;34m\u001b[0m\u001b[0;34m\u001b[0m\u001b[0m\n\u001b[0;32m---> 36\u001b[0;31m     \u001b[0mprint\u001b[0m\u001b[0;34m(\u001b[0m\u001b[0mselected_label_list\u001b[0m\u001b[0;34m)\u001b[0m\u001b[0;34m\u001b[0m\u001b[0;34m\u001b[0m\u001b[0m\n\u001b[0m\u001b[1;32m     37\u001b[0m     \u001b[0;31m# selected_label_list = [10, 18, 61, 64, 83, 63, 46, 72, 33, 85]\u001b[0m\u001b[0;34m\u001b[0m\u001b[0;34m\u001b[0m\u001b[0;34m\u001b[0m\u001b[0m\n\u001b[1;32m     38\u001b[0m     \u001b[0;31m# selected_label_list, len(selected_label_list)\u001b[0m\u001b[0;34m\u001b[0m\u001b[0;34m\u001b[0m\u001b[0;34m\u001b[0m\u001b[0m\n",
      "\u001b[0;31mNameError\u001b[0m: name 'selected_label_list' is not defined"
     ]
    }
   ],
   "source": [
    "modes = [\"train\", \"test\"]\n",
    "\n",
    "def sort_by_name(filepath):\n",
    "    return(int(Path(filepath).stem))\n",
    "\n",
    "\n",
    "for mode in modes:\n",
    "    file_list = sorted(glob.glob(f\"./output/{mode}/2/*.png\"), key = sort_by_name)\n",
    "    file_list[: 100]\n",
    "\n",
    "    # load all shapes in order to calculate average shapes for the resize\n",
    "    shapes = [cv2.imread(img_path)[:, :, 0].shape for img_path in tqdm(file_list)]\n",
    "\n",
    "    mean_h = int(np.mean([shape[0] for shape in shapes], 0))\n",
    "\n",
    "\n",
    "    mean_w = int(np.mean([shape[1] for shape in shapes], 0))\n",
    "    mean_w, mean_h\n",
    "\n",
    "    #load proper img_list\n",
    "    img_list = [cv2.resize(cv2.imread(img_path)[:, :, 0], (mean_w, mean_h)) for img_path in tqdm(file_list)]\n",
    "    #check shapes\n",
    "    print(set([img.shape for img in img_list]))\n",
    "\n",
    "    labels = pd.read_csv(f\"./output/{mode}/labels.csv\", header= None, index_col= False, names = [\"img_name\", \"label\"] )\n",
    "    # labels\n",
    "\n",
    "    if mode == \"train\":\n",
    "        #select random labels\n",
    "        # unique_labels = labels.label.unique()\n",
    "        # unique_labels = unique_labels[unique_labels>9]\n",
    "        # print(unique_labels)\n",
    "        # np.random.shuffle(unique_labels)\n",
    "        # selected_label_list = unique_labels[:45]\n",
    "        selected_label_list = np.arange(1, 45)\n",
    "    print(selected_label_list)\n",
    "    # selected_label_list = [10, 18, 61, 64, 83, 63, 46, 72, 33, 85]\n",
    "    # selected_label_list, len(selected_label_list)\n",
    "\n",
    "    selected_labels = labels[labels.label.isin(selected_label_list)]\n",
    "    print(selected_labels.shape, labels.shape)\n",
    "\n",
    "    print(np.unique(selected_labels.label, return_counts=True))\n",
    "\n",
    "    selected_indexes = selected_labels.index.to_list()\n",
    "    # selected_indexes[:10]\n",
    "\n",
    "\n",
    "    selected_img_list = itemgetter(*selected_indexes)(img_list)\n",
    "    selected_img_list_pathes = itemgetter(*selected_indexes)(file_list)\n",
    "\n",
    "    # selected_img_list_pathes\n",
    "\n",
    "\n",
    "\n",
    "    np_labels = selected_labels.label.to_numpy()\n",
    "    # type(np_labels), np_labels[:10]\n",
    "\n",
    "    np_images = np.vstack(np.expand_dims(selected_img_list, 0))\n",
    "    # np_images.shape\n",
    "\n",
    "    #a visual check\n",
    "    fig, ax = plt.subplots(2, 5)\n",
    "    for i in range(2):\n",
    "        for j in range(5):\n",
    "\n",
    "            index = np.random.randint(0, len(np_images))\n",
    "            # print(np_labels[index])\n",
    "            # print(selected_img_list_pathes[index])\n",
    "            ax[i, j].imshow(np_images[index])\n",
    "            ax[i, j].set_title(f'Label: {np_labels[index]}')\n",
    "    plt.tight_layout()\n",
    "    plt.show()\n",
    "    fig.savefig(f\"examples/{mode}_example.png\")\n",
    "    \n",
    "    np.save(f\"./final_dataset/X_{mode}.npy\", np_images)\n",
    "    np.save(f\"./final_dataset/y_{mode}.npy\", np_labels)\n",
    "    \n",
    "    np.savez_compressed(f\"./final_dataset/X_{mode}.npz\", np_images)\n",
    "    np.savez_compressed(f\"./final_dataset/y_{mode}.npz\", np_labels)\n",
    "    \n",
    "    # print(\"mode\", mode, np.load(f\"./final_dataset/X_{mode}.npy\").shape, np.load(f\"./final_dataset/y_{mode}.npy\").shape)\n",
    "    print(\"mode\", mode, np.load(f\"./final_dataset/X_{mode}.npz\")[\"arr_0\"].shape, np.load(f\"./final_dataset/y_{mode}.npz\")[\"arr_0\"].shape)\n",
    "        "
   ]
  },
  {
   "cell_type": "code",
   "execution_count": null,
   "id": "5a5fafd7-1b3e-4fa9-9425-841350171fee",
   "metadata": {},
   "outputs": [],
   "source": [
    "67 65 37 52 84 23 74 89 62 44 57 93 86 12 10 26 13 59 11 45 16 38 15 31\n",
    " 92 17 77 28 68 30"
   ]
  },
  {
   "cell_type": "code",
   "execution_count": null,
   "id": "61267450-2625-428b-87ad-f03b2fa949bf",
   "metadata": {},
   "outputs": [],
   "source": [
    " mode, np.load(f\"./final_dataset/X_{mode}.npz\")[\"arr_0\"].shape"
   ]
  },
  {
   "cell_type": "code",
   "execution_count": null,
   "id": "c02198dc-779d-458c-8acc-286b385fe4b5",
   "metadata": {},
   "outputs": [],
   "source": []
  }
 ],
 "metadata": {
  "kernelspec": {
   "display_name": "aliza2",
   "language": "python",
   "name": "aliza2"
  },
  "language_info": {
   "codemirror_mode": {
    "name": "ipython",
    "version": 3
   },
   "file_extension": ".py",
   "mimetype": "text/x-python",
   "name": "python",
   "nbconvert_exporter": "python",
   "pygments_lexer": "ipython3",
   "version": "3.8.10"
  }
 },
 "nbformat": 4,
 "nbformat_minor": 5
}
